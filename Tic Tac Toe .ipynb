{
 "cells": [
  {
   "cell_type": "code",
   "execution_count": null,
   "id": "9632eb7d",
   "metadata": {},
   "outputs": [
    {
     "name": "stdout",
     "output_type": "stream",
     "text": [
      "-|-|-\n",
      "-|-|-\n",
      "-|-|-\n"
     ]
    }
   ],
   "source": [
    "board = [\"-\", \"-\", \"-\",\n",
    "         \"-\", \"-\", \"-\",\n",
    "         \"-\", \"-\", \"-\"]\n",
    "gamingrunning = True\n",
    "currentplayer = \"X\"\n",
    "winner = None\n",
    "\n",
    "def display_board(board):\n",
    "    print(board[0] + '|' + board[1] + '|' + board[2])\n",
    "    print(board[3] + '|' + board[4] + '|' + board[5])\n",
    "    print(board[6] + '|' + board[7] + '|' + board[8])\n",
    "\n",
    "def player_input(board):\n",
    "    Pl = int(input(\"Enter a number 1-9:\"))\n",
    "    if Pl >= 1 and Pl <= 9 and board[Pl - 1] == \"-\":\n",
    "        board[Pl - 1] = currentplayer\n",
    "    else:\n",
    "        print(\"This place is occupied\")\n",
    "\n",
    "def horizontal(board):\n",
    "    global winner\n",
    "    if board[0] == board[1] == board[2] and board[0] != \"-\":\n",
    "        winner = board[0]\n",
    "        return True\n",
    "    elif board[3] == board[4] == board[5] and board[3] != \"-\":\n",
    "        winner = board[3]\n",
    "        return True\n",
    "    elif board[6] == board[7] == board[8] and board[6] != \"-\":\n",
    "        winner = board[6]\n",
    "        return True\n",
    "\n",
    "def vertical(board):\n",
    "    global winner\n",
    "    if board[0] == board[3] == board[6] and board[0] != \"-\":\n",
    "        winner = board[0]\n",
    "        return True\n",
    "    elif board[1] == board[4] == board[7] and board[1] != \"-\":\n",
    "        winner = board[1]\n",
    "        return True\n",
    "    elif board[2] == board[5] == board[8] and board[2] != \"-\":\n",
    "        winner = board[2]\n",
    "        return True\n",
    "\n",
    "def diagonal(board):\n",
    "    global winner\n",
    "    if board[0] == board[4] == board[8] and board[0] != \"-\":\n",
    "        winner = board[0]\n",
    "        return True\n",
    "    elif board[2] == board[4] == board[6] and board[2] != \"-\":\n",
    "        winner = board[2]\n",
    "        return True\n",
    "\n",
    "def tie_game(board):\n",
    "    global gamingrunning\n",
    "    if \"-\" not in board:\n",
    "        display_board(board)\n",
    "        print('It is a tie')\n",
    "        gamingrunning = False\n",
    "        \n",
    "def CheckWin():\n",
    "    if horizontal(board) or vertical(board) or diagonal(board):\n",
    "        print(f\"The winner is {winner}\")\n",
    "        \n",
    "def switchPlayer():\n",
    "    global currentplayer\n",
    "    if currentplayer == \"X\":\n",
    "        currentplayer = \"O\"\n",
    "    else:\n",
    "        currentplayer = \"X\"\n",
    "while gamingrunning:\n",
    "    display_board(board)\n",
    "    player_input(board)\n",
    "    CheckWin()\n",
    "    tie_game(board)\n",
    "    switchPlayer()\n",
    "    "
   ]
  },
  {
   "cell_type": "code",
   "execution_count": 2,
   "id": "ea5d2d6c",
   "metadata": {},
   "outputs": [],
   "source": []
  },
  {
   "cell_type": "code",
   "execution_count": null,
   "id": "9266304d",
   "metadata": {},
   "outputs": [],
   "source": []
  }
 ],
 "metadata": {
  "kernelspec": {
   "display_name": "Python 3 (ipykernel)",
   "language": "python",
   "name": "python3"
  },
  "language_info": {
   "codemirror_mode": {
    "name": "ipython",
    "version": 3
   },
   "file_extension": ".py",
   "mimetype": "text/x-python",
   "name": "python",
   "nbconvert_exporter": "python",
   "pygments_lexer": "ipython3",
   "version": "3.10.9"
  }
 },
 "nbformat": 4,
 "nbformat_minor": 5
}
